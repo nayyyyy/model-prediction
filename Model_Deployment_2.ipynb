{
  "nbformat": 4,
  "nbformat_minor": 0,
  "metadata": {
    "colab": {
      "name": "Model-Deployment.ipynb",
      "provenance": [],
      "authorship_tag": "ABX9TyNGVPZ7CZCGC0jc4ox49sXg"
    },
    "kernelspec": {
      "name": "python3",
      "display_name": "Python 3"
    },
    "language_info": {
      "name": "python"
    }
  },
  "cells": [
    {
      "cell_type": "code",
      "execution_count": null,
      "metadata": {
        "id": "RHr4NNZMKFdc"
      },
      "outputs": [],
      "source": [
        "import tensorflow as tf"
      ]
    },
    {
      "cell_type": "code",
      "source": [
        "def plus_operator(a,b):\n",
        "  return a + b"
      ],
      "metadata": {
        "id": "vRZdp9nuMX1v"
      },
      "execution_count": null,
      "outputs": []
    },
    {
      "cell_type": "code",
      "source": [
        "print(plus_operator(3,3))"
      ],
      "metadata": {
        "colab": {
          "base_uri": "https://localhost:8080/"
        },
        "id": "-ztQ6--SMdv-",
        "outputId": "9be79a90-c50a-4c18-f140-6be129b0b76f"
      },
      "execution_count": null,
      "outputs": [
        {
          "output_type": "stream",
          "name": "stdout",
          "text": [
            "6\n"
          ]
        }
      ]
    },
    {
      "cell_type": "code",
      "source": [
        "print(\"Update Notebook\")"
      ],
      "metadata": {
        "id": "RY3bOwnXMftG"
      },
      "execution_count": null,
      "outputs": []
    }
  ]
}